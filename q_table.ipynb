{
  "nbformat": 4,
  "nbformat_minor": 0,
  "metadata": {
    "colab": {
      "provenance": [],
      "authorship_tag": "ABX9TyPDGb3P2RPxeR39ilsaptT4",
      "include_colab_link": true
    },
    "kernelspec": {
      "name": "python3",
      "display_name": "Python 3"
    },
    "language_info": {
      "name": "python"
    }
  },
  "cells": [
    {
      "cell_type": "markdown",
      "metadata": {
        "id": "view-in-github",
        "colab_type": "text"
      },
      "source": [
        "<a href=\"https://colab.research.google.com/github/Michael-Santoro/airport-ride-share-pricing-strategy/blob/q_table/q_table.ipynb\" target=\"_parent\"><img src=\"https://colab.research.google.com/assets/colab-badge.svg\" alt=\"Open In Colab\"/></a>"
      ]
    },
    {
      "cell_type": "code",
      "source": [
        "N_DRIVERS = 1000"
      ],
      "metadata": {
        "id": "jAHzoIWeQpzG"
      },
      "execution_count": null,
      "outputs": []
    },
    {
      "cell_type": "markdown",
      "source": [
        "# Bellman Equation Approach\n",
        "**Michael Santoro - michael.santoro@du.edu**\n",
        "\n",
        "The Bellman equation is a fundamental equation in reinforcement learning that expresses the relationship between the value of a state or state-action pair and the expected future rewards. It is named after Richard Bellman, who made significant contributions to the field of dynamic programming.\n",
        "\n",
        "The Bellman equation can be written in two forms: one for state values (V-values) and another for action values (Q-values).\n",
        "\n",
        "Bellman equation for state values (V-values):\n",
        "$V(s) = max [ Q(s, a) ]$ over all possible actions 'a'\n",
        "$V(s) = max [ R(s, a) + γ * V(s') ]$ over all possible actions 'a'\n",
        "Here, $V(s)$ represents the value of a state $'s'$, $Q(s, a)$ represents the action value of taking action 'a' in state $'s'$, $R(s, a)$ represents the immediate reward obtained by taking action 'a' in state 's', $\\gamma$ (gamma) represents the discount factor $(0 <= γ <= 1)$ that determines the importance of future rewards, and $V(s')$ represents the value of the next state 's' that the agent transitions to after taking action 'a' in state 's'."
      ],
      "metadata": {
        "id": "dmG9rnEHRmwt"
      }
    },
    {
      "cell_type": "code",
      "execution_count": null,
      "metadata": {
        "id": "zyYHjZE9ClEc"
      },
      "outputs": [],
      "source": [
        "import numpy as np\n",
        "\n",
        "def sample_poisson(lambd, size=1):\n",
        "    \"\"\"\n",
        "    Generate random samples from a Poisson distribution with parameter lambda.\n",
        "\n",
        "    Parameters:\n",
        "        lambd (float): The parameter lambda of the Poisson distribution.\n",
        "        size (int, optional): The number of samples to generate (default 1).\n",
        "\n",
        "    Returns:\n",
        "        np.ndarray: An array of random samples from the Poisson distribution.\n",
        "    \"\"\"\n",
        "    return np.random.poisson(lam=lambd, size=size)"
      ]
    },
    {
      "cell_type": "code",
      "source": [
        "arr = sample_poisson(1,1000)"
      ],
      "metadata": {
        "id": "CZrbWgApCprd"
      },
      "execution_count": null,
      "outputs": []
    },
    {
      "cell_type": "code",
      "source": [
        "# Get the distinct values\n",
        "distinct_values = np.unique(arr)\n",
        "distinct_values"
      ],
      "metadata": {
        "colab": {
          "base_uri": "https://localhost:8080/"
        },
        "id": "8Br2azq7C6hP",
        "outputId": "7d4e563e-2b3d-439b-cc14-e96ff4300c36"
      },
      "execution_count": null,
      "outputs": [
        {
          "output_type": "execute_result",
          "data": {
            "text/plain": [
              "array([0, 1, 2, 3, 4, 5, 6, 7])"
            ]
          },
          "metadata": {},
          "execution_count": 16
        }
      ]
    },
    {
      "cell_type": "code",
      "source": [
        "q_table = {}"
      ],
      "metadata": {
        "id": "3HhUjpxBDCVO"
      },
      "execution_count": null,
      "outputs": []
    },
    {
      "cell_type": "code",
      "source": [
        "from sklearn.linear_model import LogisticRegression\n",
        "from sklearn.model_selection import train_test_split\n",
        "from sklearn.metrics import accuracy_score\n",
        "import pandas as pd\n",
        "df = pd.read_csv('/content/driverAcceptanceData - driverAcceptanceData.csv',index_col=0)\n",
        "\n",
        "\n",
        "# Split data into features and target\n",
        "X = df.drop('ACCEPTED', axis=1).values\n",
        "y = df['ACCEPTED'].values\n",
        "\n",
        "# Split data into training and testing sets\n",
        "X_train, X_test, y_train, y_test = train_test_split(X, y, test_size=0.2, random_state=42)\n",
        "\n",
        "# Fit logistic regression model\n",
        "lr = LogisticRegression()\n",
        "lr.fit(X_train, y_train)\n",
        "\n",
        "# Make predictions on test set\n",
        "y_pred = lr.predict(X_test)\n",
        "\n",
        "# Evaluate model performance\n",
        "accuracy = accuracy_score(y_test, y_pred)\n",
        "print('Accuracy:', accuracy)"
      ],
      "metadata": {
        "colab": {
          "base_uri": "https://localhost:8080/"
        },
        "id": "WX-jlNjIDf3_",
        "outputId": "a57aea90-479e-488d-9f5b-d937efe13882"
      },
      "execution_count": null,
      "outputs": [
        {
          "output_type": "stream",
          "name": "stdout",
          "text": [
            "Accuracy: 0.825\n"
          ]
        }
      ]
    },
    {
      "cell_type": "code",
      "source": [
        "def driver_desc(price, n_drivers=N_DRIVERS):\n",
        "  return np.any(np.random.choice([False, True], size=n_drivers, p=lr.predict_proba(np.array([price]).reshape(-1, 1))[0]))"
      ],
      "metadata": {
        "id": "HjZ2YiuGDnwQ"
      },
      "execution_count": null,
      "outputs": []
    },
    {
      "cell_type": "code",
      "source": [
        "np.any(np.random.choice([False, True], size=N_DRIVERS, p=lr.predict_proba(np.array([1]).reshape(-1, 1))[0]))"
      ],
      "metadata": {
        "colab": {
          "base_uri": "https://localhost:8080/"
        },
        "id": "s6zM7bILS3Nc",
        "outputId": "3a46292d-7f50-47bd-d9fd-a9125cf7195e"
      },
      "execution_count": null,
      "outputs": [
        {
          "output_type": "execute_result",
          "data": {
            "text/plain": [
              "True"
            ]
          },
          "metadata": {},
          "execution_count": 25
        }
      ]
    },
    {
      "cell_type": "code",
      "source": [
        "## Cost Array\n",
        "c = np.linspace(0.01,30,3000)"
      ],
      "metadata": {
        "id": "AETPZAmDE_lK"
      },
      "execution_count": null,
      "outputs": []
    },
    {
      "cell_type": "code",
      "source": [
        "m = 11\n",
        "\n",
        "# Apply the function to each element using np.vectorize()\n",
        "driver_choice = np.vectorize(driver_desc)(c)\n"
      ],
      "metadata": {
        "id": "w3HHI1rXDJ20"
      },
      "execution_count": null,
      "outputs": []
    },
    {
      "cell_type": "code",
      "source": [
        "driver_choice[:25]"
      ],
      "metadata": {
        "colab": {
          "base_uri": "https://localhost:8080/"
        },
        "id": "f75AEIalFAPE",
        "outputId": "68453644-3435-4ca4-8501-fae1280b87c8"
      },
      "execution_count": null,
      "outputs": [
        {
          "output_type": "execute_result",
          "data": {
            "text/plain": [
              "array([ True,  True, False,  True,  True,  True,  True, False, False,\n",
              "        True,  True,  True, False,  True, False,  True,  True,  True,\n",
              "       False,  True,  True,  True,  True, False,  True])"
            ]
          },
          "metadata": {},
          "execution_count": 33
        }
      ]
    },
    {
      "cell_type": "code",
      "source": [],
      "metadata": {
        "id": "ogn_-sPAWn5T"
      },
      "execution_count": null,
      "outputs": []
    }
  ]
}