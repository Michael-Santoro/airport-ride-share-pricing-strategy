{
 "cells": [
  {
   "attachments": {},
   "cell_type": "markdown",
   "metadata": {},
   "source": [
    "# Airport Ride Service Problem - Solution 2\n",
    "**Michael Santoro - michael.santoro@du.edu**\n",
    "## Problem Statement\n",
    "You're launching a ride-hailing service that matches riders with drivers for trips between the Toledo Airport and Downtown Toledo. It'll be active for only 12 months. You've been forced to charge riders \\$30 for each ride. You can pay drivers what you choose for each individual ride.\n",
    "\n",
    "The supply pool (“drivers”) is very deep. When a ride is requested, a very large pool of drivers see a notification informing them of the request. They can choose whether or not to accept it. Based on a similar ride-hailing service in the same market, you have some [data](https://docs.google.com/spreadsheets/d/1gEMVOCXvWBcoUsTnfgDazKdur09KvnUDKW_9BE_XOD0/edit#gid=2115831440) on which ride requests were accepted and which were not. (The PAY column is what drivers were offered and the ACCEPTED column reflects whether any driver accepted the ride request.)\n",
    "\n",
    "The demand pool (“riders”) can be acquired at a cost of $30 per rider at any time during the 12 months. There are 10,000 riders in Toledo, but you can't acquire more than 1,000 in a given month. You start with 0 riders. “Acquisition” means that the rider has downloaded the app and may request rides. Requested rides may or may not be accepted by a driver. In the first month that riders are active, they request rides based on a [Poisson distribution](https://en.wikipedia.org/wiki/Poisson_distribution) where lambda = 1. For each subsequent month, riders request rides based on a Poisson distribution where lambda is the number of rides that they found a match for in the previous month. (As an example, a rider that requests 3 rides in month 1 and finds 2 matches has a lambda of 2 going into month 2.) If a rider finds no matches in a month (which may happen either because they request no rides in the first place based on the Poisson distribution or because they request rides and find no matches), they leave the service and never return.\n",
    "\n",
    "Submit a written document that proposes a pricing strategy to maximize the profit of the business over the 12 months. You should expect that this singular document will serve as a proposal for\n",
    "1. A quantitative executive team that wants to know how you're thinking about the problem and what assumptions you're making but that does not know probability theory\n",
    "1. Your data science peers so they can push on your thinking\n",
    "Please submit any work you do, code or math, with your solution.\n",
    "\n",
    "## Introduction\n",
    "In this solution I build on the work done in the initial work done in `AirportRideService.ipynb`. But this solution takes a big leap interms of complexity in that the problem is more formally formatted as Reinforcement Learning problem. Modeling the taxi driver acceptance as the enviroment and the agent seeking to maximize profit."
   ]
  },
  {
   "attachments": {},
   "cell_type": "markdown",
   "metadata": {},
   "source": [
    "## Training"
   ]
  },
  {
   "attachments": {},
   "cell_type": "markdown",
   "metadata": {},
   "source": [
    "## Random Agent Results"
   ]
  },
  {
   "cell_type": "code",
   "execution_count": 1,
   "metadata": {},
   "outputs": [
    {
     "name": "stdout",
     "output_type": "stream",
     "text": [
      "Accuracy: 0.825\n",
      "Total Profit: 11209.39\tMonth: 1\n",
      "Total Profit: 31649.95\tMonth: 2\n",
      "Total Profit: 60820.99\tMonth: 3\n",
      "Total Profit: 98140.79\tMonth: 4\n",
      "Total Profit: 142790.06\tMonth: 5\n",
      "Total Profit: 193990.55\tMonth: 6\n",
      "Total Profit: 251317.23\tMonth: 7\n",
      "Total Profit: 314716.62\tMonth: 8\n",
      "Total Profit: 383811.65\tMonth: 9\n",
      "Total Profit: 458457.49\tMonth: 10\n",
      "Total Profit: 521969.82\tMonth: 11\n"
     ]
    }
   ],
   "source": [
    "from dqn.dqn_agent import Agent\n",
    "\n",
    "agent = Agent(state_size=2, action_size=1, seed=42)\n",
    "\n",
    "from env.driver import driver_env_arr\n",
    "\n",
    "env = driver_env_arr()\n",
    "total_profit = 0\n",
    "state = env.reset()\n",
    "\n",
    "for m in range(1,12):\n",
    "    actions = agent.act(state)\n",
    "    actions = ((actions + 1) / (1 + 1)) * 30\n",
    "    total_profit += env.step(actions)\n",
    "    state = env.add_riders(m)\n",
    "    print(f'Total Profit: {total_profit:.2f}\\tMonth: {m}')"
   ]
  },
  {
   "attachments": {},
   "cell_type": "markdown",
   "metadata": {},
   "source": [
    "## Trained Agent Results"
   ]
  },
  {
   "cell_type": "code",
   "execution_count": 2,
   "metadata": {},
   "outputs": [
    {
     "name": "stdout",
     "output_type": "stream",
     "text": [
      "Accuracy: 0.825\n",
      "Total Profit: 11968.40\tMonth: 1\n",
      "Total Profit: 32996.11\tMonth: 2\n",
      "Total Profit: 62520.62\tMonth: 3\n",
      "Total Profit: 99791.28\tMonth: 4\n",
      "Total Profit: 143613.55\tMonth: 5\n",
      "Total Profit: 194813.00\tMonth: 6\n",
      "Total Profit: 252015.52\tMonth: 7\n",
      "Total Profit: 314707.94\tMonth: 8\n",
      "Total Profit: 382991.95\tMonth: 9\n",
      "Total Profit: 456643.30\tMonth: 10\n",
      "Total Profit: 519214.57\tMonth: 11\n"
     ]
    }
   ],
   "source": [
    "import torch\n",
    "from dqn.dqn_agent import Agent\n",
    "\n",
    "agent = Agent(state_size=2, action_size=1, seed=42)\n",
    "agent.qnetwork_local.state_dict = torch.load('checkpoint.pth')\n",
    "\n",
    "from env.driver import driver_env_arr\n",
    "\n",
    "env = driver_env_arr()\n",
    "total_profit = 0\n",
    "state = env.reset()\n",
    "\n",
    "for m in range(1,12):\n",
    "    actions = agent.act(state)\n",
    "    actions = ((actions + 1) / (1 + 1)) * 30\n",
    "    total_profit += env.step(actions)\n",
    "    state = env.add_riders(m)\n",
    "    print(f'Total Profit: {total_profit:.2f}\\tMonth: {m}')"
   ]
  },
  {
   "cell_type": "code",
   "execution_count": null,
   "metadata": {},
   "outputs": [],
   "source": []
  }
 ],
 "metadata": {
  "kernelspec": {
   "display_name": "drl_3.9",
   "language": "python",
   "name": "python3"
  },
  "language_info": {
   "codemirror_mode": {
    "name": "ipython",
    "version": 3
   },
   "file_extension": ".py",
   "mimetype": "text/x-python",
   "name": "python",
   "nbconvert_exporter": "python",
   "pygments_lexer": "ipython3",
   "version": "3.9.16"
  },
  "orig_nbformat": 4
 },
 "nbformat": 4,
 "nbformat_minor": 2
}
