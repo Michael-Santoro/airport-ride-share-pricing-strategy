{
 "cells": [
  {
   "attachments": {},
   "cell_type": "markdown",
   "metadata": {},
   "source": [
    "# Taxi Simple Policy Simulation\n",
    "Originally I had missed a couple details such as the 30 dollar aquired cost."
   ]
  },
  {
   "cell_type": "code",
   "execution_count": 1,
   "metadata": {},
   "outputs": [],
   "source": [
    "import numpy as np\n",
    "from env.driver import driver_env_arr"
   ]
  },
  {
   "cell_type": "code",
   "execution_count": 2,
   "metadata": {},
   "outputs": [
    {
     "name": "stdout",
     "output_type": "stream",
     "text": [
      "Accuracy: 0.825\n"
     ]
    }
   ],
   "source": [
    "env = driver_env_arr(n_drivers=100)\n",
    "total_profit = (-1)*30*1000\n",
    "state = env.reset()"
   ]
  },
  {
   "cell_type": "code",
   "execution_count": 3,
   "metadata": {},
   "outputs": [
    {
     "data": {
      "text/plain": [
       "(657, 2)"
      ]
     },
     "execution_count": 3,
     "metadata": {},
     "output_type": "execute_result"
    }
   ],
   "source": [
    "state.shape"
   ]
  },
  {
   "cell_type": "code",
   "execution_count": 4,
   "metadata": {},
   "outputs": [
    {
     "data": {
      "text/plain": [
       "array([[0., 1.],\n",
       "       [0., 1.],\n",
       "       [0., 1.],\n",
       "       [0., 1.],\n",
       "       [0., 2.],\n",
       "       [0., 2.],\n",
       "       [0., 1.],\n",
       "       [0., 1.],\n",
       "       [0., 1.],\n",
       "       [0., 1.]])"
      ]
     },
     "execution_count": 4,
     "metadata": {},
     "output_type": "execute_result"
    }
   ],
   "source": [
    "state[:10]"
   ]
  },
  {
   "attachments": {},
   "cell_type": "markdown",
   "metadata": {},
   "source": [
    "The state contains month and lambda. \n",
    "$$\n",
    "p' = p - month*d + lam*p \n",
    "$$"
   ]
  },
  {
   "cell_type": "code",
   "execution_count": 5,
   "metadata": {},
   "outputs": [],
   "source": [
    "def calc_price (month_lambda, base_price=15, m_factor=1, l_factor=1):\n",
    "    month = month_lambda[0]\n",
    "    lam = month_lambda[1]\n",
    "    return base_price-(month*m_factor)+(lam*l_factor)\n"
   ]
  },
  {
   "cell_type": "code",
   "execution_count": 6,
   "metadata": {},
   "outputs": [],
   "source": [
    "\n",
    "action= np.apply_along_axis(calc_price,1,state)"
   ]
  },
  {
   "cell_type": "code",
   "execution_count": 7,
   "metadata": {},
   "outputs": [
    {
     "data": {
      "text/plain": [
       "(657,)"
      ]
     },
     "execution_count": 7,
     "metadata": {},
     "output_type": "execute_result"
    }
   ],
   "source": [
    "action.shape"
   ]
  },
  {
   "cell_type": "code",
   "execution_count": 8,
   "metadata": {},
   "outputs": [],
   "source": [
    "reward = 30-action\n",
    "# reward = reward.reshape(reward.shape[1],)\n",
    "reward = reward.reshape(reward.shape[0],)"
   ]
  },
  {
   "cell_type": "code",
   "execution_count": 9,
   "metadata": {},
   "outputs": [
    {
     "ename": "IndexError",
     "evalue": "tuple index out of range",
     "output_type": "error",
     "traceback": [
      "\u001b[0;31m---------------------------------------------------------------------------\u001b[0m",
      "\u001b[0;31mIndexError\u001b[0m                                Traceback (most recent call last)",
      "Cell \u001b[0;32mIn[9], line 1\u001b[0m\n\u001b[0;32m----> 1\u001b[0m env\u001b[39m.\u001b[39;49mstep(action)\n",
      "File \u001b[0;32m~/rl/airport-ride-share-pricing-strategy/env/driver.py:191\u001b[0m, in \u001b[0;36mdriver_env_arr.step\u001b[0;34m(self, action)\u001b[0m\n\u001b[1;32m    189\u001b[0m reward \u001b[39m=\u001b[39m reward\u001b[39m.\u001b[39mreshape(reward\u001b[39m.\u001b[39mshape[\u001b[39m0\u001b[39m],)\n\u001b[1;32m    190\u001b[0m \u001b[39m## Get Drivers Choice\u001b[39;00m\n\u001b[0;32m--> 191\u001b[0m driver_accepted \u001b[39m=\u001b[39m \u001b[39mself\u001b[39;49m\u001b[39m.\u001b[39;49mdriver_desc(action)\n\u001b[1;32m    192\u001b[0m reward \u001b[39m=\u001b[39m reward[driver_accepted]\n\u001b[1;32m    193\u001b[0m \u001b[39mself\u001b[39m\u001b[39m.\u001b[39mstates \u001b[39m=\u001b[39m \u001b[39mself\u001b[39m\u001b[39m.\u001b[39mstates[driver_accepted]\n",
      "File \u001b[0;32m~/rl/airport-ride-share-pricing-strategy/env/driver.py:166\u001b[0m, in \u001b[0;36mdriver_env_arr.driver_desc\u001b[0;34m(self, price)\u001b[0m\n\u001b[1;32m    164\u001b[0m \u001b[39mdef\u001b[39;00m \u001b[39mchoice\u001b[39m(p):\n\u001b[1;32m    165\u001b[0m     \u001b[39mreturn\u001b[39;00m np\u001b[39m.\u001b[39mrandom\u001b[39m.\u001b[39mchoice([\u001b[39mFalse\u001b[39;00m, \u001b[39mTrue\u001b[39;00m], size\u001b[39m=\u001b[39m\u001b[39mself\u001b[39m\u001b[39m.\u001b[39mn_drivers, p\u001b[39m=\u001b[39mp)\n\u001b[0;32m--> 166\u001b[0m price \u001b[39m=\u001b[39m price\u001b[39m.\u001b[39mreshape(price\u001b[39m.\u001b[39;49mshape[\u001b[39m1\u001b[39;49m],\u001b[39m1\u001b[39m)\n\u001b[1;32m    167\u001b[0m choices \u001b[39m=\u001b[39m np\u001b[39m.\u001b[39mapply_along_axis(choice, \u001b[39m1\u001b[39m, \u001b[39mself\u001b[39m\u001b[39m.\u001b[39mlr\u001b[39m.\u001b[39mpredict_proba(price))\n\u001b[1;32m    168\u001b[0m \u001b[39mreturn\u001b[39;00m np\u001b[39m.\u001b[39many(choices,axis\u001b[39m=\u001b[39m\u001b[39m1\u001b[39m)\n",
      "\u001b[0;31mIndexError\u001b[0m: tuple index out of range"
     ]
    }
   ],
   "source": [
    "env.step(action)"
   ]
  },
  {
   "cell_type": "code",
   "execution_count": null,
   "metadata": {},
   "outputs": [],
   "source": [
    "for m in range(1,12):\n",
    "    actions = np.apply_along_axis(calc_price,1,state)\n",
    "\n",
    "    total_profit += env.step(actions)\n",
    "    state, added = env.add_riders(m)\n",
    "    if added:\n",
    "        total_profit -= 1000*30\n",
    "    print(f'Total Profit: {total_profit:.2f}\\tMonth: {m}')"
   ]
  },
  {
   "cell_type": "code",
   "execution_count": 17,
   "metadata": {},
   "outputs": [
    {
     "ename": "IndexError",
     "evalue": "tuple index out of range",
     "output_type": "error",
     "traceback": [
      "\u001b[0;31m---------------------------------------------------------------------------\u001b[0m",
      "\u001b[0;31mIndexError\u001b[0m                                Traceback (most recent call last)",
      "Cell \u001b[0;32mIn[17], line 1\u001b[0m\n\u001b[0;32m----> 1\u001b[0m env\u001b[39m.\u001b[39;49mstep(action)\n",
      "File \u001b[0;32m~/rl/airport-ride-share-pricing-strategy/env/driver.py:188\u001b[0m, in \u001b[0;36mdriver_env_arr.step\u001b[0;34m(self, action)\u001b[0m\n\u001b[1;32m    186\u001b[0m \u001b[39m## Calc Profit\u001b[39;00m\n\u001b[1;32m    187\u001b[0m reward \u001b[39m=\u001b[39m \u001b[39m30\u001b[39m\u001b[39m-\u001b[39maction\n\u001b[0;32m--> 188\u001b[0m reward \u001b[39m=\u001b[39m reward\u001b[39m.\u001b[39mreshape(reward\u001b[39m.\u001b[39;49mshape[\u001b[39m1\u001b[39;49m],)\n\u001b[1;32m    190\u001b[0m \u001b[39m## Get Drivers Choice\u001b[39;00m\n\u001b[1;32m    191\u001b[0m driver_accepted \u001b[39m=\u001b[39m \u001b[39mself\u001b[39m\u001b[39m.\u001b[39mdriver_desc(action)\n",
      "\u001b[0;31mIndexError\u001b[0m: tuple index out of range"
     ]
    }
   ],
   "source": [
    "env.step(action)"
   ]
  },
  {
   "cell_type": "code",
   "execution_count": 19,
   "metadata": {},
   "outputs": [],
   "source": [
    "reward = 30-action"
   ]
  },
  {
   "cell_type": "code",
   "execution_count": 20,
   "metadata": {},
   "outputs": [
    {
     "data": {
      "text/plain": [
       "(623,)"
      ]
     },
     "execution_count": 20,
     "metadata": {},
     "output_type": "execute_result"
    }
   ],
   "source": [
    "reward.shape"
   ]
  },
  {
   "cell_type": "code",
   "execution_count": null,
   "metadata": {},
   "outputs": [],
   "source": []
  }
 ],
 "metadata": {
  "kernelspec": {
   "display_name": "drl_3.9",
   "language": "python",
   "name": "python3"
  },
  "language_info": {
   "codemirror_mode": {
    "name": "ipython",
    "version": 3
   },
   "file_extension": ".py",
   "mimetype": "text/x-python",
   "name": "python",
   "nbconvert_exporter": "python",
   "pygments_lexer": "ipython3",
   "version": "3.9.16"
  },
  "orig_nbformat": 4
 },
 "nbformat": 4,
 "nbformat_minor": 2
}
